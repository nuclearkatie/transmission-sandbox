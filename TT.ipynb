{
 "cells": [
  {
   "cell_type": "markdown",
   "metadata": {},
   "source": [
    "# Transmission Tool"
   ]
  },
  {
   "cell_type": "markdown",
   "metadata": {},
   "source": [
    "governing equations\n",
    "$$ \\frac{I}{I_0} = e^{-\\Sigma_t * x}$$\n",
    "\n",
    "$$ -ln\\left(\\frac{I}{I_0}\\right)\\frac{1}{x} = \\Sigma_t = N * \\sigma_t $$\n",
    "\n",
    "$$ \\Sigma = \\frac{\\sigma \\rho N_A}{A} $$\n",
    "\n",
    "$$ \\sigma = \\frac{\\Sigma A}{\\rho N_A}$$\n",
    "\n",
    "where\n",
    "$$\\Sigma = \\text{Macroscopic Cross-section (cm^-1)}$$\n",
    "$$\\sigma = \\text{Microscopic Cross-section (cm^2)}$$\n",
    "$$\\rho = \\text{Density (g cm^-3)}$$\n",
    "$$N = \\text{ Number Density}$$\n",
    "$$N_A = \\text{ Avagadro's Number, 6.02*10^23}$$\n",
    "$$A = \\text{Atomic Mass}$$\n",
    "$$x = \\text{Thickness of material}$$"
   ]
  },
  {
   "cell_type": "markdown",
   "metadata": {},
   "source": [
    "## Input values\n",
    "\n",
    "Please modify the following box with the three values\n",
    "\n",
    "* x thickness (cm)\n",
    "* transmission: the fraction of 14 MeV (ish) neutrons transmitted\n",
    "* error: the error of the measurment i.e. 0.05 for ± 5%"
   ]
  },
  {
   "cell_type": "code",
   "execution_count": 4,
   "metadata": {},
   "outputs": [],
   "source": [
    "x=5\n",
    "transmission=0.1\n",
    "error=0.25"
   ]
  },
  {
   "cell_type": "markdown",
   "metadata": {},
   "source": [
    "## Run (but don't modify) the following lines"
   ]
  },
  {
   "cell_type": "markdown",
   "metadata": {},
   "source": [
    "This can be done by hitting 'Shift' and 'Enter' at the same time or clicking \"Run All\" under the cell settings bar"
   ]
  },
  {
   "cell_type": "code",
   "execution_count": 5,
   "metadata": {},
   "outputs": [],
   "source": [
    "from main import main"
   ]
  },
  {
   "cell_type": "code",
   "execution_count": 6,
   "metadata": {},
   "outputs": [
    {
     "name": "stdout",
     "output_type": "stream",
     "text": [
      "The isotopes being checked are:\n",
      "['1A', '2B', '3C', '4D', '5E', '235U', '239Pu', '238U', '233U']\n",
      "\n",
      "The isotopes that can be ruled out from this measurement are:\n",
      "['1A', '2B', '4D', '5E', '235U', '239Pu', '238U', '233U']\n",
      "\n",
      "Please note that this tool is only for informal use\n",
      "\n"
     ]
    }
   ],
   "source": [
    "main(x,transmission,error)"
   ]
  }
 ],
 "metadata": {
  "kernelspec": {
   "display_name": "Python 3",
   "language": "python",
   "name": "python3"
  },
  "language_info": {
   "codemirror_mode": {
    "name": "ipython",
    "version": 3
   },
   "file_extension": ".py",
   "mimetype": "text/x-python",
   "name": "python",
   "nbconvert_exporter": "python",
   "pygments_lexer": "ipython3",
   "version": "3.6.4"
  }
 },
 "nbformat": 4,
 "nbformat_minor": 2
}
