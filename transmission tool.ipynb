{
 "cells": [
  {
   "cell_type": "code",
   "execution_count": 1,
   "metadata": {},
   "outputs": [],
   "source": [
    "import math"
   ]
  },
  {
   "cell_type": "markdown",
   "metadata": {},
   "source": [
    "## Governing Equations"
   ]
  },
  {
   "cell_type": "markdown",
   "metadata": {},
   "source": [
    "$$ \\frac{I}{I_0} = e^{-\\Sigma_t * x}$$\n",
    "\n",
    "$$ -ln\\left(\\frac{I}{I_0}\\right)\\frac{1}{x} = \\Sigma_t = N * \\sigma_t $$\n",
    "\n",
    "$$ \\Sigma = \\frac{\\sigma \\rho N_A}{A} $$\n",
    "\n",
    "$$ \\sigma = \\frac{\\Sigma A}{\\rho N_A}$$\n",
    "\n",
    "where\n",
    "$$\\Sigma = \\text{Macroscopic Cross-section (cm^-1)}$$\n",
    "$$\\sigma = \\text{Microscopic Cross-section (cm^2)}$$\n",
    "$$\\rho = \\text{Density (g cm^-3)}$$\n",
    "$$N = \\text{ Number Density}$$\n",
    "$$N_A = \\text{ Avagadro's Number, 6.02*10^23}$$\n",
    "$$A = \\text{Atomic Mass}$$\n",
    "$$x = \\text{Thickness of material}$$"
   ]
  },
  {
   "cell_type": "markdown",
   "metadata": {},
   "source": [
    "## Dictionary"
   ]
  },
  {
   "cell_type": "code",
   "execution_count": 3,
   "metadata": {},
   "outputs": [
    {
     "name": "stdout",
     "output_type": "stream",
     "text": [
      "5.816379999999999e-24\n"
     ]
    }
   ],
   "source": [
    "xs = [\n",
    "    {'isotope' : '235U',\n",
    "    'sigma' : 5.81638*10**-24,\n",
    "    'density' : 19.1,\n",
    "    'A' : 92\n",
    "    }\n",
    "]\n",
    "\n",
    "xs_sandbox = {'235U' : 5.81638*10**-24,\n",
    "     '238U' : 5.86569*10**-24,\n",
    "     '239Pu' : 5.8714*10**-24,\n",
    "     '208Pb' : 5.38587*10**-24,\n",
    "      '14Al' : 1.744*10**-24\n",
    "     }\n",
    "\n",
    "print(xs_sandbox['235U'])\n"
   ]
  },
  {
   "cell_type": "code",
   "execution_count": null,
   "metadata": {},
   "outputs": [],
   "source": []
  },
  {
   "cell_type": "code",
   "execution_count": null,
   "metadata": {},
   "outputs": [],
   "source": [
    "U235 = isotope('235U',5.81638*10**-24,19.1,92)"
   ]
  },
  {
   "cell_type": "markdown",
   "metadata": {},
   "source": [
    "### Test values"
   ]
  },
  {
   "cell_type": "code",
   "execution_count": 4,
   "metadata": {},
   "outputs": [],
   "source": [
    "x=5\n",
    "transmission = 0.5"
   ]
  },
  {
   "cell_type": "code",
   "execution_count": 5,
   "metadata": {},
   "outputs": [],
   "source": [
    "Sig_t = - math.log(transmission) / x\n",
    "\n",
    "\n",
    "def find_sigma(Sig_t):\n",
    "    N_A = 6.023*10**23\n",
    "    "
   ]
  },
  {
   "cell_type": "code",
   "execution_count": null,
   "metadata": {},
   "outputs": [],
   "source": []
  }
 ],
 "metadata": {
  "kernelspec": {
   "display_name": "Python 3",
   "language": "python",
   "name": "python3"
  },
  "language_info": {
   "codemirror_mode": {
    "name": "ipython",
    "version": 3
   },
   "file_extension": ".py",
   "mimetype": "text/x-python",
   "name": "python",
   "nbconvert_exporter": "python",
   "pygments_lexer": "ipython3",
   "version": "3.6.5"
  }
 },
 "nbformat": 4,
 "nbformat_minor": 2
}
